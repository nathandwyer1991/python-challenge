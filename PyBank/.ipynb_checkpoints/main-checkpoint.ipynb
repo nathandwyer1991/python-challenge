{
 "cells": [
  {
   "cell_type": "code",
   "execution_count": 1,
   "id": "c9711ab1-f287-46b1-ac63-f34a89563890",
   "metadata": {},
   "outputs": [],
   "source": [
    "import pandas as pd"
   ]
  },
  {
   "cell_type": "code",
   "execution_count": 2,
   "id": "19a7577b-d275-4770-bfad-8a908e8f5fc6",
   "metadata": {
    "tags": []
   },
   "outputs": [],
   "source": [
    "budget_path = './Resources/budget_data.csv'\n",
    "bank_data = pd.read_csv(budget_path)\n",
    "    \n",
    "    "
   ]
  },
  {
   "cell_type": "code",
   "execution_count": 3,
   "id": "bbfe0f32-5d72-4237-a6ee-cbcb6bf32aa3",
   "metadata": {
    "tags": []
   },
   "outputs": [
    {
     "data": {
      "text/html": [
       "<div>\n",
       "<style scoped>\n",
       "    .dataframe tbody tr th:only-of-type {\n",
       "        vertical-align: middle;\n",
       "    }\n",
       "\n",
       "    .dataframe tbody tr th {\n",
       "        vertical-align: top;\n",
       "    }\n",
       "\n",
       "    .dataframe thead th {\n",
       "        text-align: right;\n",
       "    }\n",
       "</style>\n",
       "<table border=\"1\" class=\"dataframe\">\n",
       "  <thead>\n",
       "    <tr style=\"text-align: right;\">\n",
       "      <th></th>\n",
       "      <th>Date</th>\n",
       "      <th>Profit/Losses</th>\n",
       "    </tr>\n",
       "  </thead>\n",
       "  <tbody>\n",
       "    <tr>\n",
       "      <th>0</th>\n",
       "      <td>Jan-2010</td>\n",
       "      <td>867884</td>\n",
       "    </tr>\n",
       "    <tr>\n",
       "      <th>1</th>\n",
       "      <td>Feb-2010</td>\n",
       "      <td>984655</td>\n",
       "    </tr>\n",
       "    <tr>\n",
       "      <th>2</th>\n",
       "      <td>Mar-2010</td>\n",
       "      <td>322013</td>\n",
       "    </tr>\n",
       "    <tr>\n",
       "      <th>3</th>\n",
       "      <td>Apr-2010</td>\n",
       "      <td>-69417</td>\n",
       "    </tr>\n",
       "    <tr>\n",
       "      <th>4</th>\n",
       "      <td>May-2010</td>\n",
       "      <td>310503</td>\n",
       "    </tr>\n",
       "    <tr>\n",
       "      <th>...</th>\n",
       "      <td>...</td>\n",
       "      <td>...</td>\n",
       "    </tr>\n",
       "    <tr>\n",
       "      <th>81</th>\n",
       "      <td>Oct-2016</td>\n",
       "      <td>102685</td>\n",
       "    </tr>\n",
       "    <tr>\n",
       "      <th>82</th>\n",
       "      <td>Nov-2016</td>\n",
       "      <td>795914</td>\n",
       "    </tr>\n",
       "    <tr>\n",
       "      <th>83</th>\n",
       "      <td>Dec-2016</td>\n",
       "      <td>60988</td>\n",
       "    </tr>\n",
       "    <tr>\n",
       "      <th>84</th>\n",
       "      <td>Jan-2017</td>\n",
       "      <td>138230</td>\n",
       "    </tr>\n",
       "    <tr>\n",
       "      <th>85</th>\n",
       "      <td>Feb-2017</td>\n",
       "      <td>671099</td>\n",
       "    </tr>\n",
       "  </tbody>\n",
       "</table>\n",
       "<p>86 rows × 2 columns</p>\n",
       "</div>"
      ],
      "text/plain": [
       "        Date  Profit/Losses\n",
       "0   Jan-2010         867884\n",
       "1   Feb-2010         984655\n",
       "2   Mar-2010         322013\n",
       "3   Apr-2010         -69417\n",
       "4   May-2010         310503\n",
       "..       ...            ...\n",
       "81  Oct-2016         102685\n",
       "82  Nov-2016         795914\n",
       "83  Dec-2016          60988\n",
       "84  Jan-2017         138230\n",
       "85  Feb-2017         671099\n",
       "\n",
       "[86 rows x 2 columns]"
      ]
     },
     "execution_count": 3,
     "metadata": {},
     "output_type": "execute_result"
    }
   ],
   "source": [
    "bank_data"
   ]
  },
  {
   "cell_type": "code",
   "execution_count": 4,
   "id": "beaecbcd-9885-481c-b45f-ccd8ce9f8abd",
   "metadata": {
    "tags": []
   },
   "outputs": [],
   "source": [
    "total_months = len(bank_data.index)"
   ]
  },
  {
   "cell_type": "code",
   "execution_count": 5,
   "id": "e0420d26-d3e7-496d-b9c3-0c29c6f0990c",
   "metadata": {
    "tags": []
   },
   "outputs": [
    {
     "name": "stdout",
     "output_type": "stream",
     "text": [
      "Jan-2010 867884\n",
      "Feb-2010 984655\n",
      "Mar-2010 322013\n",
      "Apr-2010 -69417\n",
      "May-2010 310503\n",
      "Jun-2010 522857\n",
      "Jul-2010 1033096\n",
      "Aug-2010 604885\n",
      "Sep-2010 -216386\n",
      "Oct-2010 477532\n",
      "Nov-2010 893810\n",
      "Dec-2010 -80353\n",
      "Jan-2011 779806\n",
      "Feb-2011 -335203\n",
      "Mar-2011 697845\n",
      "Apr-2011 793163\n",
      "May-2011 485070\n",
      "Jun-2011 584122\n",
      "Jul-2011 62729\n",
      "Aug-2011 668179\n",
      "Sep-2011 899906\n",
      "Oct-2011 834719\n",
      "Nov-2011 132003\n",
      "Dec-2011 309978\n",
      "Jan-2012 -755566\n",
      "Feb-2012 1170593\n",
      "Mar-2012 252788\n",
      "Apr-2012 1151518\n",
      "May-2012 817256\n",
      "Jun-2012 570757\n",
      "Jul-2012 506702\n",
      "Aug-2012 -1022534\n",
      "Sep-2012 475062\n",
      "Oct-2012 779976\n",
      "Nov-2012 144175\n",
      "Dec-2012 542494\n",
      "Jan-2013 359333\n",
      "Feb-2013 321469\n",
      "Mar-2013 67780\n",
      "Apr-2013 471435\n",
      "May-2013 565603\n",
      "Jun-2013 872480\n",
      "Jul-2013 789480\n",
      "Aug-2013 999942\n",
      "Sep-2013 -1196225\n",
      "Oct-2013 268997\n",
      "Nov-2013 -687986\n",
      "Dec-2013 1150461\n",
      "Jan-2014 682458\n",
      "Feb-2014 617856\n",
      "Mar-2014 824098\n",
      "Apr-2014 581943\n",
      "May-2014 132864\n",
      "Jun-2014 448062\n",
      "Jul-2014 689161\n",
      "Aug-2014 800701\n",
      "Sep-2014 1166643\n",
      "Oct-2014 947333\n",
      "Nov-2014 578668\n",
      "Dec-2014 988505\n",
      "Jan-2015 1139715\n",
      "Feb-2015 1029471\n",
      "Mar-2015 687533\n",
      "Apr-2015 -524626\n",
      "May-2015 158620\n",
      "Jun-2015 87795\n",
      "Jul-2015 423389\n",
      "Aug-2015 840723\n",
      "Sep-2015 568529\n",
      "Oct-2015 332067\n",
      "Nov-2015 989499\n",
      "Dec-2015 778237\n",
      "Jan-2016 650000\n",
      "Feb-2016 -1100387\n",
      "Mar-2016 -174946\n",
      "Apr-2016 757143\n",
      "May-2016 445709\n",
      "Jun-2016 712961\n",
      "Jul-2016 -1163797\n",
      "Aug-2016 569899\n",
      "Sep-2016 768450\n",
      "Oct-2016 102685\n",
      "Nov-2016 795914\n",
      "Dec-2016 60988\n",
      "Jan-2017 138230\n",
      "Feb-2017 671099\n"
     ]
    }
   ],
   "source": [
    "net_profit = 0\n",
    "for ind in bank_data.index:\n",
    "    print(bank_data['Date'][ind], bank_data['Profit/Losses'][ind])\n",
    "    net_profit += bank_data['Profit/Losses'][ind]"
   ]
  },
  {
   "cell_type": "code",
   "execution_count": 6,
   "id": "68dd2b09-8b68-4803-a3f9-bd44f2ae84e0",
   "metadata": {
    "tags": []
   },
   "outputs": [
    {
     "data": {
      "text/plain": [
       "38382578"
      ]
     },
     "execution_count": 6,
     "metadata": {},
     "output_type": "execute_result"
    }
   ],
   "source": [
    "net_profit"
   ]
  },
  {
   "cell_type": "code",
   "execution_count": 7,
   "id": "f2c0d3fb-f53d-478f-aa82-dbb4a7215900",
   "metadata": {
    "tags": []
   },
   "outputs": [],
   "source": [
    "bank_data['Previous Month'] = bank_data['Profit/Losses'].shift(1)"
   ]
  },
  {
   "cell_type": "code",
   "execution_count": 8,
   "id": "f6c0ee18-1438-4f3a-9dde-cd9875e04779",
   "metadata": {
    "tags": []
   },
   "outputs": [
    {
     "data": {
      "text/html": [
       "<div>\n",
       "<style scoped>\n",
       "    .dataframe tbody tr th:only-of-type {\n",
       "        vertical-align: middle;\n",
       "    }\n",
       "\n",
       "    .dataframe tbody tr th {\n",
       "        vertical-align: top;\n",
       "    }\n",
       "\n",
       "    .dataframe thead th {\n",
       "        text-align: right;\n",
       "    }\n",
       "</style>\n",
       "<table border=\"1\" class=\"dataframe\">\n",
       "  <thead>\n",
       "    <tr style=\"text-align: right;\">\n",
       "      <th></th>\n",
       "      <th>Date</th>\n",
       "      <th>Profit/Losses</th>\n",
       "      <th>Previous Month</th>\n",
       "    </tr>\n",
       "  </thead>\n",
       "  <tbody>\n",
       "    <tr>\n",
       "      <th>0</th>\n",
       "      <td>Jan-2010</td>\n",
       "      <td>867884</td>\n",
       "      <td>NaN</td>\n",
       "    </tr>\n",
       "    <tr>\n",
       "      <th>1</th>\n",
       "      <td>Feb-2010</td>\n",
       "      <td>984655</td>\n",
       "      <td>867884.0</td>\n",
       "    </tr>\n",
       "    <tr>\n",
       "      <th>2</th>\n",
       "      <td>Mar-2010</td>\n",
       "      <td>322013</td>\n",
       "      <td>984655.0</td>\n",
       "    </tr>\n",
       "    <tr>\n",
       "      <th>3</th>\n",
       "      <td>Apr-2010</td>\n",
       "      <td>-69417</td>\n",
       "      <td>322013.0</td>\n",
       "    </tr>\n",
       "    <tr>\n",
       "      <th>4</th>\n",
       "      <td>May-2010</td>\n",
       "      <td>310503</td>\n",
       "      <td>-69417.0</td>\n",
       "    </tr>\n",
       "    <tr>\n",
       "      <th>...</th>\n",
       "      <td>...</td>\n",
       "      <td>...</td>\n",
       "      <td>...</td>\n",
       "    </tr>\n",
       "    <tr>\n",
       "      <th>81</th>\n",
       "      <td>Oct-2016</td>\n",
       "      <td>102685</td>\n",
       "      <td>768450.0</td>\n",
       "    </tr>\n",
       "    <tr>\n",
       "      <th>82</th>\n",
       "      <td>Nov-2016</td>\n",
       "      <td>795914</td>\n",
       "      <td>102685.0</td>\n",
       "    </tr>\n",
       "    <tr>\n",
       "      <th>83</th>\n",
       "      <td>Dec-2016</td>\n",
       "      <td>60988</td>\n",
       "      <td>795914.0</td>\n",
       "    </tr>\n",
       "    <tr>\n",
       "      <th>84</th>\n",
       "      <td>Jan-2017</td>\n",
       "      <td>138230</td>\n",
       "      <td>60988.0</td>\n",
       "    </tr>\n",
       "    <tr>\n",
       "      <th>85</th>\n",
       "      <td>Feb-2017</td>\n",
       "      <td>671099</td>\n",
       "      <td>138230.0</td>\n",
       "    </tr>\n",
       "  </tbody>\n",
       "</table>\n",
       "<p>86 rows × 3 columns</p>\n",
       "</div>"
      ],
      "text/plain": [
       "        Date  Profit/Losses  Previous Month\n",
       "0   Jan-2010         867884             NaN\n",
       "1   Feb-2010         984655        867884.0\n",
       "2   Mar-2010         322013        984655.0\n",
       "3   Apr-2010         -69417        322013.0\n",
       "4   May-2010         310503        -69417.0\n",
       "..       ...            ...             ...\n",
       "81  Oct-2016         102685        768450.0\n",
       "82  Nov-2016         795914        102685.0\n",
       "83  Dec-2016          60988        795914.0\n",
       "84  Jan-2017         138230         60988.0\n",
       "85  Feb-2017         671099        138230.0\n",
       "\n",
       "[86 rows x 3 columns]"
      ]
     },
     "execution_count": 8,
     "metadata": {},
     "output_type": "execute_result"
    }
   ],
   "source": [
    "bank_data"
   ]
  },
  {
   "cell_type": "code",
   "execution_count": 9,
   "id": "e3c2bf55-6f5c-4410-82a8-13fbc153d4d5",
   "metadata": {
    "tags": []
   },
   "outputs": [],
   "source": [
    "bank_data['Change'] = bank_data['Profit/Losses']-bank_data['Previous Month'] "
   ]
  },
  {
   "cell_type": "code",
   "execution_count": 10,
   "id": "aff1ba11-5210-4801-8444-5c8a318a6f9e",
   "metadata": {
    "tags": []
   },
   "outputs": [
    {
     "data": {
      "text/html": [
       "<div>\n",
       "<style scoped>\n",
       "    .dataframe tbody tr th:only-of-type {\n",
       "        vertical-align: middle;\n",
       "    }\n",
       "\n",
       "    .dataframe tbody tr th {\n",
       "        vertical-align: top;\n",
       "    }\n",
       "\n",
       "    .dataframe thead th {\n",
       "        text-align: right;\n",
       "    }\n",
       "</style>\n",
       "<table border=\"1\" class=\"dataframe\">\n",
       "  <thead>\n",
       "    <tr style=\"text-align: right;\">\n",
       "      <th></th>\n",
       "      <th>Date</th>\n",
       "      <th>Profit/Losses</th>\n",
       "      <th>Previous Month</th>\n",
       "      <th>Change</th>\n",
       "    </tr>\n",
       "  </thead>\n",
       "  <tbody>\n",
       "    <tr>\n",
       "      <th>0</th>\n",
       "      <td>Jan-2010</td>\n",
       "      <td>867884</td>\n",
       "      <td>NaN</td>\n",
       "      <td>NaN</td>\n",
       "    </tr>\n",
       "    <tr>\n",
       "      <th>1</th>\n",
       "      <td>Feb-2010</td>\n",
       "      <td>984655</td>\n",
       "      <td>867884.0</td>\n",
       "      <td>116771.0</td>\n",
       "    </tr>\n",
       "    <tr>\n",
       "      <th>2</th>\n",
       "      <td>Mar-2010</td>\n",
       "      <td>322013</td>\n",
       "      <td>984655.0</td>\n",
       "      <td>-662642.0</td>\n",
       "    </tr>\n",
       "    <tr>\n",
       "      <th>3</th>\n",
       "      <td>Apr-2010</td>\n",
       "      <td>-69417</td>\n",
       "      <td>322013.0</td>\n",
       "      <td>-391430.0</td>\n",
       "    </tr>\n",
       "    <tr>\n",
       "      <th>4</th>\n",
       "      <td>May-2010</td>\n",
       "      <td>310503</td>\n",
       "      <td>-69417.0</td>\n",
       "      <td>379920.0</td>\n",
       "    </tr>\n",
       "    <tr>\n",
       "      <th>...</th>\n",
       "      <td>...</td>\n",
       "      <td>...</td>\n",
       "      <td>...</td>\n",
       "      <td>...</td>\n",
       "    </tr>\n",
       "    <tr>\n",
       "      <th>81</th>\n",
       "      <td>Oct-2016</td>\n",
       "      <td>102685</td>\n",
       "      <td>768450.0</td>\n",
       "      <td>-665765.0</td>\n",
       "    </tr>\n",
       "    <tr>\n",
       "      <th>82</th>\n",
       "      <td>Nov-2016</td>\n",
       "      <td>795914</td>\n",
       "      <td>102685.0</td>\n",
       "      <td>693229.0</td>\n",
       "    </tr>\n",
       "    <tr>\n",
       "      <th>83</th>\n",
       "      <td>Dec-2016</td>\n",
       "      <td>60988</td>\n",
       "      <td>795914.0</td>\n",
       "      <td>-734926.0</td>\n",
       "    </tr>\n",
       "    <tr>\n",
       "      <th>84</th>\n",
       "      <td>Jan-2017</td>\n",
       "      <td>138230</td>\n",
       "      <td>60988.0</td>\n",
       "      <td>77242.0</td>\n",
       "    </tr>\n",
       "    <tr>\n",
       "      <th>85</th>\n",
       "      <td>Feb-2017</td>\n",
       "      <td>671099</td>\n",
       "      <td>138230.0</td>\n",
       "      <td>532869.0</td>\n",
       "    </tr>\n",
       "  </tbody>\n",
       "</table>\n",
       "<p>86 rows × 4 columns</p>\n",
       "</div>"
      ],
      "text/plain": [
       "        Date  Profit/Losses  Previous Month    Change\n",
       "0   Jan-2010         867884             NaN       NaN\n",
       "1   Feb-2010         984655        867884.0  116771.0\n",
       "2   Mar-2010         322013        984655.0 -662642.0\n",
       "3   Apr-2010         -69417        322013.0 -391430.0\n",
       "4   May-2010         310503        -69417.0  379920.0\n",
       "..       ...            ...             ...       ...\n",
       "81  Oct-2016         102685        768450.0 -665765.0\n",
       "82  Nov-2016         795914        102685.0  693229.0\n",
       "83  Dec-2016          60988        795914.0 -734926.0\n",
       "84  Jan-2017         138230         60988.0   77242.0\n",
       "85  Feb-2017         671099        138230.0  532869.0\n",
       "\n",
       "[86 rows x 4 columns]"
      ]
     },
     "execution_count": 10,
     "metadata": {},
     "output_type": "execute_result"
    }
   ],
   "source": [
    "bank_data"
   ]
  },
  {
   "cell_type": "code",
   "execution_count": 11,
   "id": "72716400-7bd8-4b57-ab3b-0c3b2dbb34aa",
   "metadata": {
    "tags": []
   },
   "outputs": [],
   "source": [
    "Increase = bank_data[\"Change\"].max()"
   ]
  },
  {
   "cell_type": "code",
   "execution_count": 12,
   "id": "9a7d87f9-7e63-4e2a-ae3f-0a6797231727",
   "metadata": {
    "tags": []
   },
   "outputs": [],
   "source": [
    "Decrease = bank_data[\"Change\"].min()"
   ]
  },
  {
   "cell_type": "code",
   "execution_count": 13,
   "id": "84f326fd-b223-4178-9471-7b0ee7f140a0",
   "metadata": {
    "tags": []
   },
   "outputs": [],
   "source": [
    "Average = bank_data[\"Change\"].mean()"
   ]
  },
  {
   "cell_type": "code",
   "execution_count": 14,
   "id": "7513ce31-0521-40fb-9c41-cfa236ceac72",
   "metadata": {
    "tags": []
   },
   "outputs": [],
   "source": [
    "with open(\"financial_analysis\", \"w\") as file1:\n",
    "    file1.write(\"Financial Analysis\\n\")\n",
    "    file1.write(\"----------------------------\\n\")\n",
    "    file1.write(f\"Total Months: {total_months}\\n\")\n",
    "    file1.write(f\"Total: ${net_profit}\\n\")\n",
    "    file1.write(f\"Average  Change: ${Average}\\n\")\n",
    "    file1.write(f\"Greatest Increase in Profits: Feb-2012 (${Increase})\\n\")\n",
    "    file1.write(f\"Greatest Decrease in Profits: Sep-2013 (${Decrease})\\n\")"
   ]
  },
  {
   "cell_type": "code",
   "execution_count": 15,
   "id": "a3942c2b-0371-43a6-b900-49734ef17fc2",
   "metadata": {
    "tags": []
   },
   "outputs": [
    {
     "name": "stdout",
     "output_type": "stream",
     "text": [
      "Financial Analysis\n",
      "\n",
      "----------------------------\n",
      "\n",
      "Total Months: 86\n",
      "\n",
      "Total: $38382578\n",
      "\n",
      "Average  Change: $-2315.1176470588234\n",
      "\n",
      "Greatest Increase in Profits: Feb-2012 ($1926159.0)\n",
      "\n",
      "Greatest Decrease in Profits: Sep-2013 ($-2196167.0)\n",
      "\n"
     ]
    }
   ],
   "source": [
    "print(\"Financial Analysis\")\n",
    "print(\"----------------------------\")\n",
    "print(f\"Total Months: {total_months}\")\n",
    "print(f\"Total: ${net_profit}\")\n",
    "print(f\"Average  Change: ${Average}\")\n",
    "print(f\"Greatest Increase in Profits: Feb-2012 (${Increase})\")\n",
    "print(f\"Greatest Decrease in Profits: Sep-2013 (${Decrease})\")"
   ]
  },
  {
   "cell_type": "code",
   "execution_count": null,
   "id": "ce634267-126e-4ac4-9493-ab61ebdb43c9",
   "metadata": {},
   "outputs": [],
   "source": []
  }
 ],
 "metadata": {
  "kernelspec": {
   "display_name": "Python 3 (ipykernel)",
   "language": "python",
   "name": "python3"
  },
  "language_info": {
   "codemirror_mode": {
    "name": "ipython",
    "version": 3
   },
   "file_extension": ".py",
   "mimetype": "text/x-python",
   "name": "python",
   "nbconvert_exporter": "python",
   "pygments_lexer": "ipython3",
   "version": "3.11.4"
  }
 },
 "nbformat": 4,
 "nbformat_minor": 5
}
